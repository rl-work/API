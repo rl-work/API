{
 "cells": [
  {
   "cell_type": "code",
   "execution_count": 1,
   "metadata": {},
   "outputs": [],
   "source": [
    "# Initial imports\n",
    "import os\n",
    "import requests\n",
    "import pandas as pd\n",
    "from dotenv import load_dotenv\n",
    "import alpaca_trade_api as tradeapi\n",
    "from MCForecastTools import MCSimulation\n",
    "\n",
    "%matplotlib inline"
   ]
  },
  {
   "cell_type": "code",
   "execution_count": 2,
   "metadata": {},
   "outputs": [
    {
     "data": {
      "text/plain": [
       "True"
      ]
     },
     "execution_count": 2,
     "metadata": {},
     "output_type": "execute_result"
    }
   ],
   "source": [
    "# Load .env enviroment variables\n",
    "load_dotenv()"
   ]
  },
  {
   "cell_type": "code",
   "execution_count": 3,
   "metadata": {},
   "outputs": [],
   "source": [
    "# Set Alpaca API key and secret\n",
    "alpaca_api_key = os.environ[\"ALPACA_API_KEY\"]\n",
    "alpaca_secret_key = os.environ[\"ALPACA_SECRET_KEY\"]\n",
    "\n",
    "api = tradeapi.REST(\n",
    "   alpaca_api_key,\n",
    "   alpaca_secret_key,\n",
    "   api_version = \"v2\"\n",
    ")\n"
   ]
  },
  {
   "cell_type": "markdown",
   "metadata": {},
   "source": [
    "## Part 1 - Personal Finance Planner"
   ]
  },
  {
   "cell_type": "code",
   "execution_count": 4,
   "metadata": {},
   "outputs": [],
   "source": [
    "# Set monthly household income\n",
    "monthly_income = 12000"
   ]
  },
  {
   "cell_type": "markdown",
   "metadata": {},
   "source": [
    "### Collect Crypto Prices Using the `requests` Library"
   ]
  },
  {
   "cell_type": "code",
   "execution_count": 5,
   "metadata": {},
   "outputs": [],
   "source": [
    "# Current amount of crypto assets\n",
    "my_btc = 1.2\n",
    "my_eth = 5.3\n"
   ]
  },
  {
   "cell_type": "code",
   "execution_count": 6,
   "metadata": {},
   "outputs": [],
   "source": [
    "# Crypto API URLs\n",
    "btc_url = \"https://api.alternative.me/v2/ticker/Bitcoin/?convert=USD\"\n",
    "eth_url = \"https://api.alternative.me/v2/ticker/Ethereum/?convert=USD\""
   ]
  },
  {
   "cell_type": "code",
   "execution_count": 7,
   "metadata": {},
   "outputs": [
    {
     "name": "stdout",
     "output_type": "stream",
     "text": [
      "The current value of your 1.2 BTC is $14081.95\n",
      "The current value of your 5.3 ETH is $2007.90\n"
     ]
    }
   ],
   "source": [
    "# Fetch current BTC price\n",
    "btc = requests.get(btc_url).json()\n",
    "btc_price = btc[\"data\"][\"1\"][\"quotes\"][\"USD\"][\"price\"]\n",
    "# Fetch current ETH price\n",
    "eth = requests.get(eth_url).json()\n",
    "eth_price = eth[\"data\"][\"1027\"][\"quotes\"][\"USD\"][\"price\"]\n",
    "# Compute current value of my crpto\n",
    "my_btc_value = my_btc * btc_price\n",
    "my_eth_value = my_eth * eth_price\n",
    "\n",
    "# Print current crypto wallet balance\n",
    "print(f\"The current value of your {my_btc} BTC is ${my_btc_value:0.2f}\")\n",
    "print(f\"The current value of your {my_eth} ETH is ${my_eth_value:0.2f}\")"
   ]
  },
  {
   "cell_type": "markdown",
   "metadata": {},
   "source": [
    "### Collect Investments Data Using Alpaca: `SPY` (stocks) and `AGG` (bonds)"
   ]
  },
  {
   "cell_type": "code",
   "execution_count": 8,
   "metadata": {},
   "outputs": [
    {
     "data": {
      "text/html": [
       "<div>\n",
       "<style scoped>\n",
       "    .dataframe tbody tr th:only-of-type {\n",
       "        vertical-align: middle;\n",
       "    }\n",
       "\n",
       "    .dataframe tbody tr th {\n",
       "        vertical-align: top;\n",
       "    }\n",
       "\n",
       "    .dataframe thead th {\n",
       "        text-align: right;\n",
       "    }\n",
       "</style>\n",
       "<table border=\"1\" class=\"dataframe\">\n",
       "  <thead>\n",
       "    <tr style=\"text-align: right;\">\n",
       "      <th></th>\n",
       "      <th>shares</th>\n",
       "    </tr>\n",
       "  </thead>\n",
       "  <tbody>\n",
       "    <tr>\n",
       "      <th>AGG</th>\n",
       "      <td>200</td>\n",
       "    </tr>\n",
       "    <tr>\n",
       "      <th>SPY</th>\n",
       "      <td>50</td>\n",
       "    </tr>\n",
       "  </tbody>\n",
       "</table>\n",
       "</div>"
      ],
      "text/plain": [
       "     shares\n",
       "AGG     200\n",
       "SPY      50"
      ]
     },
     "execution_count": 8,
     "metadata": {},
     "output_type": "execute_result"
    }
   ],
   "source": [
    "# Current amount of shares\n",
    "my_agg = 200\n",
    "my_spy = 50\n",
    "\n",
    "shares_data = {\n",
    "        \"shares\":[200, 50]\n",
    "}\n",
    "\n",
    "tickers = [\"AGG\", \"SPY\"]\n",
    "\n",
    "#Create the shares DataFrame\n",
    "shares = pd.DataFrame(shares_data, index=tickers)\n",
    "shares"
   ]
  },
  {
   "cell_type": "code",
   "execution_count": 9,
   "metadata": {},
   "outputs": [],
   "source": [
    "# Set Alpaca API key and secret\n",
    "alpaca_api_key = os.getenv(\"ALPACA_API_KEY\")\n",
    "alpaca_secret_key = os.getenv(\"ALPACA_SECRET_KEY\")\n",
    "# Create the Alpaca API object\n",
    "alpaca = tradeapi.REST(\n",
    "    alpaca_api_key,\n",
    "    alpaca_secret_key,\n",
    "    api_version=\"v2\")"
   ]
  },
  {
   "cell_type": "code",
   "execution_count": 10,
   "metadata": {},
   "outputs": [
    {
     "name": "stdout",
     "output_type": "stream",
     "text": [
      "Current AGG closing price: $112.91\n",
      "Current SPY closing price: $296.01\n"
     ]
    },
    {
     "data": {
      "text/html": [
       "<div>\n",
       "<style scoped>\n",
       "    .dataframe tbody tr th:only-of-type {\n",
       "        vertical-align: middle;\n",
       "    }\n",
       "\n",
       "    .dataframe tbody tr th {\n",
       "        vertical-align: top;\n",
       "    }\n",
       "\n",
       "    .dataframe thead tr th {\n",
       "        text-align: left;\n",
       "    }\n",
       "</style>\n",
       "<table border=\"1\" class=\"dataframe\">\n",
       "  <thead>\n",
       "    <tr>\n",
       "      <th></th>\n",
       "      <th colspan=\"5\" halign=\"left\">AGG</th>\n",
       "      <th colspan=\"5\" halign=\"left\">SPY</th>\n",
       "    </tr>\n",
       "    <tr>\n",
       "      <th></th>\n",
       "      <th>open</th>\n",
       "      <th>high</th>\n",
       "      <th>low</th>\n",
       "      <th>close</th>\n",
       "      <th>volume</th>\n",
       "      <th>open</th>\n",
       "      <th>high</th>\n",
       "      <th>low</th>\n",
       "      <th>close</th>\n",
       "      <th>volume</th>\n",
       "    </tr>\n",
       "  </thead>\n",
       "  <tbody>\n",
       "    <tr>\n",
       "      <th>2019-10-14 00:00:00-04:00</th>\n",
       "      <td>112.9</td>\n",
       "      <td>112.93</td>\n",
       "      <td>112.82</td>\n",
       "      <td>112.91</td>\n",
       "      <td>1442540</td>\n",
       "      <td>295.93</td>\n",
       "      <td>296.67</td>\n",
       "      <td>295.57</td>\n",
       "      <td>296.01</td>\n",
       "      <td>32589599</td>\n",
       "    </tr>\n",
       "  </tbody>\n",
       "</table>\n",
       "</div>"
      ],
      "text/plain": [
       "                             AGG                                      SPY  \\\n",
       "                            open    high     low   close   volume    open   \n",
       "2019-10-14 00:00:00-04:00  112.9  112.93  112.82  112.91  1442540  295.93   \n",
       "\n",
       "                                                             \n",
       "                             high     low   close    volume  \n",
       "2019-10-14 00:00:00-04:00  296.67  295.57  296.01  32589599  "
      ]
     },
     "execution_count": 10,
     "metadata": {},
     "output_type": "execute_result"
    }
   ],
   "source": [
    "# Format current date as ISO format\n",
    "start_date = pd.Timestamp(\"2019-10-14\", tz=\"America/New_York\").isoformat()\n",
    "\n",
    "# Set the tickers\n",
    "tickers = [\"AGG\", \"SPY\"]\n",
    "\n",
    "# Set timeframe to '1D' for Alpaca API\n",
    "timeframe = \"1D\"\n",
    "\n",
    "# Get current closing prices for SPY and AGG\n",
    "df_portfolio =alpaca.get_barset(\n",
    "    tickers, \n",
    "    timeframe, \n",
    "    start = start_date, \n",
    "    end = start_date\n",
    ").df\n",
    "\n",
    "\n",
    "\n",
    "# Pick AGG and SPY close prices\n",
    "agg_close_price=float(df_portfolio[\"AGG\"][\"close\"])\n",
    "spy_close_price=float(df_portfolio[\"SPY\"][\"close\"])\n",
    "\n",
    "# Print AGG and SPY close prices\n",
    "print(f\"Current AGG closing price: ${agg_close_price}\")\n",
    "print(f\"Current SPY closing price: ${spy_close_price}\")\n",
    "df_portfolio.head()"
   ]
  },
  {
   "cell_type": "code",
   "execution_count": 11,
   "metadata": {},
   "outputs": [
    {
     "name": "stdout",
     "output_type": "stream",
     "text": [
      "The current value of the 200 AGG shares is $22582.00\n",
      "The current value of the 50 SPY shares is $14800.50\n"
     ]
    }
   ],
   "source": [
    "# Compute the current value of shares\n",
    "my_agg_value = agg_close_price * shares.loc[\"AGG\"][\"shares\"]\n",
    "my_spy_value = spy_close_price * shares.loc[\"SPY\"][\"shares\"]\n",
    "\n",
    "\n",
    "# Print current value of share\n",
    "print(f\"The current value of the {shares.loc['AGG']['shares']} AGG shares is ${my_agg_value:0.2f}\")\n",
    "print(f\"The current value of the {shares.loc['SPY']['shares']} SPY shares is ${my_spy_value:0.2f}\")"
   ]
  },
  {
   "cell_type": "markdown",
   "metadata": {},
   "source": [
    "### Savings Health Analysis"
   ]
  },
  {
   "cell_type": "code",
   "execution_count": 12,
   "metadata": {},
   "outputs": [
    {
     "data": {
      "text/html": [
       "<div>\n",
       "<style scoped>\n",
       "    .dataframe tbody tr th:only-of-type {\n",
       "        vertical-align: middle;\n",
       "    }\n",
       "\n",
       "    .dataframe tbody tr th {\n",
       "        vertical-align: top;\n",
       "    }\n",
       "\n",
       "    .dataframe thead th {\n",
       "        text-align: right;\n",
       "    }\n",
       "</style>\n",
       "<table border=\"1\" class=\"dataframe\">\n",
       "  <thead>\n",
       "    <tr style=\"text-align: right;\">\n",
       "      <th></th>\n",
       "      <th>Amount</th>\n",
       "    </tr>\n",
       "  </thead>\n",
       "  <tbody>\n",
       "    <tr>\n",
       "      <th>crypto</th>\n",
       "      <td>37382.500</td>\n",
       "    </tr>\n",
       "    <tr>\n",
       "      <th>shares</th>\n",
       "      <td>16089.857</td>\n",
       "    </tr>\n",
       "  </tbody>\n",
       "</table>\n",
       "</div>"
      ],
      "text/plain": [
       "           Amount\n",
       "crypto  37382.500\n",
       "shares  16089.857"
      ]
     },
     "execution_count": 12,
     "metadata": {},
     "output_type": "execute_result"
    }
   ],
   "source": [
    "# Create savings DataFrame\n",
    "df_save = ['crypto', 'shares']\n",
    "\n",
    "savings_value = [my_spy_value + my_agg_value, my_btc_value+my_eth_value]\n",
    "df_save= pd.DataFrame(savings_value, index=df_save, columns=[\"Amount\"])\n",
    "\n",
    "\n",
    "# Display savings DataFrame\n",
    "df_save"
   ]
  },
  {
   "cell_type": "code",
   "execution_count": 13,
   "metadata": {},
   "outputs": [
    {
     "data": {
      "text/plain": [
       "<matplotlib.axes._subplots.AxesSubplot at 0x1f177a1ec08>"
      ]
     },
     "execution_count": 13,
     "metadata": {},
     "output_type": "execute_result"
    },
    {
     "data": {
      "image/png": "[encoded data removed]",
      "text/plain": [
       "<Figure size 432x288 with 1 Axes>"
      ]
     },
     "metadata": {},
     "output_type": "display_data"
    }
   ],
   "source": [
    "# Plot savings pie chart\n",
    "df_save.plot.pie(y=\"Amount\", title=\"Composition of Personal Savings\")"
   ]
  },
  {
   "cell_type": "code",
   "execution_count": 14,
   "metadata": {},
   "outputs": [
    {
     "name": "stdout",
     "output_type": "stream",
     "text": [
      "Congratulations, you have more than enough money in your emergency fund. Buy yourself something nice!\n"
     ]
    }
   ],
   "source": [
    "# Set ideal emergency fund\n",
    "emergency_fund = monthly_income * 3\n",
    "\n",
    "total_savings = sum(savings_value)\n",
    "\n",
    "# Calculate total amount of savings\n",
    "if total_savings > emergency_fund:\n",
    "    print(\"Congratulations, you have more than enough money in your emergency fund. Buy yourself something nice!\")\n",
    "elif total_savings == emergency_fund:\n",
    "    print(\"Congratulations, you have reached your financial goal! Keep investing! \")\n",
    "else:\n",
    "    total_savings<emergency_fund\n",
    "    print(\"Keep saving, you will get there!\")\n"
   ]
  },
  {
   "cell_type": "markdown",
   "metadata": {},
   "source": [
    "## Part 2 - Retirement Planning\n",
    "\n",
    "### Monte Carlo Simulation"
   ]
  },
  {
   "cell_type": "code",
   "execution_count": 15,
   "metadata": {},
   "outputs": [],
   "source": [
    "# Set start and end dates of five years back from today.\n",
    "# Sample results may vary from the solution based on the time frame chosen\n",
    "start_date = pd.Timestamp('2015-10-14', tz='America/New_York').isoformat()\n",
    "end_date = pd.Timestamp('2020-10-14', tz='America/New_York').isoformat()"
   ]
  },
  {
   "cell_type": "code",
   "execution_count": 16,
   "metadata": {},
   "outputs": [
    {
     "data": {
      "text/html": [
       "<div>\n",
       "<style scoped>\n",
       "    .dataframe tbody tr th:only-of-type {\n",
       "        vertical-align: middle;\n",
       "    }\n",
       "\n",
       "    .dataframe tbody tr th {\n",
       "        vertical-align: top;\n",
       "    }\n",
       "\n",
       "    .dataframe thead tr th {\n",
       "        text-align: left;\n",
       "    }\n",
       "</style>\n",
       "<table border=\"1\" class=\"dataframe\">\n",
       "  <thead>\n",
       "    <tr>\n",
       "      <th></th>\n",
       "      <th colspan=\"5\" halign=\"left\">AGG</th>\n",
       "      <th colspan=\"5\" halign=\"left\">SPY</th>\n",
       "    </tr>\n",
       "    <tr>\n",
       "      <th></th>\n",
       "      <th>open</th>\n",
       "      <th>high</th>\n",
       "      <th>low</th>\n",
       "      <th>close</th>\n",
       "      <th>volume</th>\n",
       "      <th>open</th>\n",
       "      <th>high</th>\n",
       "      <th>low</th>\n",
       "      <th>close</th>\n",
       "      <th>volume</th>\n",
       "    </tr>\n",
       "  </thead>\n",
       "  <tbody>\n",
       "    <tr>\n",
       "      <th>2015-10-14 00:00:00-04:00</th>\n",
       "      <td>109.83</td>\n",
       "      <td>110.0500</td>\n",
       "      <td>109.7251</td>\n",
       "      <td>110.03</td>\n",
       "      <td>3785661</td>\n",
       "      <td>200.18</td>\n",
       "      <td>200.87</td>\n",
       "      <td>198.9400</td>\n",
       "      <td>199.27</td>\n",
       "      <td>82856686</td>\n",
       "    </tr>\n",
       "    <tr>\n",
       "      <th>2015-10-15 00:00:00-04:00</th>\n",
       "      <td>109.93</td>\n",
       "      <td>110.0499</td>\n",
       "      <td>109.7900</td>\n",
       "      <td>109.89</td>\n",
       "      <td>1792325</td>\n",
       "      <td>200.08</td>\n",
       "      <td>202.34</td>\n",
       "      <td>199.6400</td>\n",
       "      <td>202.33</td>\n",
       "      <td>96008389</td>\n",
       "    </tr>\n",
       "    <tr>\n",
       "      <th>2015-10-16 00:00:00-04:00</th>\n",
       "      <td>109.90</td>\n",
       "      <td>109.9400</td>\n",
       "      <td>109.7800</td>\n",
       "      <td>109.78</td>\n",
       "      <td>1497588</td>\n",
       "      <td>202.83</td>\n",
       "      <td>203.29</td>\n",
       "      <td>201.9200</td>\n",
       "      <td>203.14</td>\n",
       "      <td>79323870</td>\n",
       "    </tr>\n",
       "    <tr>\n",
       "      <th>2015-10-19 00:00:00-04:00</th>\n",
       "      <td>109.78</td>\n",
       "      <td>109.8950</td>\n",
       "      <td>109.6500</td>\n",
       "      <td>109.85</td>\n",
       "      <td>1289942</td>\n",
       "      <td>202.50</td>\n",
       "      <td>203.37</td>\n",
       "      <td>202.1300</td>\n",
       "      <td>203.33</td>\n",
       "      <td>61255929</td>\n",
       "    </tr>\n",
       "    <tr>\n",
       "      <th>2015-10-20 00:00:00-04:00</th>\n",
       "      <td>109.64</td>\n",
       "      <td>109.7800</td>\n",
       "      <td>109.5500</td>\n",
       "      <td>109.65</td>\n",
       "      <td>1672562</td>\n",
       "      <td>202.85</td>\n",
       "      <td>203.84</td>\n",
       "      <td>202.5471</td>\n",
       "      <td>203.07</td>\n",
       "      <td>60081395</td>\n",
       "    </tr>\n",
       "  </tbody>\n",
       "</table>\n",
       "</div>"
      ],
      "text/plain": [
       "                              AGG                                       \\\n",
       "                             open      high       low   close   volume   \n",
       "2015-10-14 00:00:00-04:00  109.83  110.0500  109.7251  110.03  3785661   \n",
       "2015-10-15 00:00:00-04:00  109.93  110.0499  109.7900  109.89  1792325   \n",
       "2015-10-16 00:00:00-04:00  109.90  109.9400  109.7800  109.78  1497588   \n",
       "2015-10-19 00:00:00-04:00  109.78  109.8950  109.6500  109.85  1289942   \n",
       "2015-10-20 00:00:00-04:00  109.64  109.7800  109.5500  109.65  1672562   \n",
       "\n",
       "                              SPY                                      \n",
       "                             open    high       low   close    volume  \n",
       "2015-10-14 00:00:00-04:00  200.18  200.87  198.9400  199.27  82856686  \n",
       "2015-10-15 00:00:00-04:00  200.08  202.34  199.6400  202.33  96008389  \n",
       "2015-10-16 00:00:00-04:00  202.83  203.29  201.9200  203.14  79323870  \n",
       "2015-10-19 00:00:00-04:00  202.50  203.37  202.1300  203.33  61255929  \n",
       "2015-10-20 00:00:00-04:00  202.85  203.84  202.5471  203.07  60081395  "
      ]
     },
     "execution_count": 16,
     "metadata": {},
     "output_type": "execute_result"
    }
   ],
   "source": [
    "# Get 5 years' worth of historical data for SPY and AGG\n",
    "df_savings = api.get_barset(\n",
    "    tickers,\n",
    "    timeframe,\n",
    "    start=start_date,\n",
    "    end=end_date\n",
    ").df\n",
    "\n",
    "\n",
    "# Display sample data\n",
    "df_savings.head()"
   ]
  },
  {
   "cell_type": "code",
   "execution_count": 17,
   "metadata": {},
   "outputs": [
    {
     "data": {
      "text/plain": [
       "\u001b[1;31mInit signature:\u001b[0m\n",
       "\u001b[0mMCSimulation\u001b[0m\u001b[1;33m(\u001b[0m\u001b[1;33m\n",
       "\u001b[0m    \u001b[0mportfolio_data\u001b[0m\u001b[1;33m,\u001b[0m\u001b[1;33m\n",
       "\u001b[0m    \u001b[0mweights\u001b[0m\u001b[1;33m=\u001b[0m\u001b[1;34m''\u001b[0m\u001b[1;33m,\u001b[0m\u001b[1;33m\n",
       "\u001b[0m    \u001b[0mnum_simulation\u001b[0m\u001b[1;33m=\u001b[0m\u001b[1;36m1000\u001b[0m\u001b[1;33m,\u001b[0m\u001b[1;33m\n",
       "\u001b[0m    \u001b[0mnum_trading_days\u001b[0m\u001b[1;33m=\u001b[0m\u001b[1;36m252\u001b[0m\u001b[1;33m,\u001b[0m\u001b[1;33m\n",
       "\u001b[0m\u001b[1;33m)\u001b[0m\u001b[1;33m\u001b[0m\u001b[1;33m\u001b[0m\u001b[0m\n",
       "\u001b[1;31mDocstring:\u001b[0m     \n",
       "A Python class for runnning Monte Carlo simulation on portfolio price data. \n",
       "\n",
       "...\n",
       "\n",
       "Attributes\n",
       "----------\n",
       "portfolio_data : pandas.DataFrame\n",
       "    portfolio dataframe\n",
       "weights: list(float)\n",
       "    portfolio investment breakdown\n",
       "nSim: int\n",
       "    number of samples in simulation\n",
       "nTrading: int\n",
       "    number of trading days to simulate\n",
       "simulated_return : pandas.DataFrame\n",
       "    Simulated data from Monte Carlo\n",
       "confidence_interval : pandas.Series\n",
       "    the 95% confidence intervals for simulated final cumulative returns\n",
       "    \n",
       "\u001b[1;31mInit docstring:\u001b[0m\n",
       "Constructs all the necessary attributes for the MCSimulation object.\n",
       "\n",
       "Parameters\n",
       "----------\n",
       "portfolio_data: pandas.DataFrame\n",
       "    DataFrame containing stock price information from Alpaca API\n",
       "weights: list(float)\n",
       "    A list fractions representing percentage of total investment per stock. DEFAULT: Equal distribution\n",
       "num_simulation: int\n",
       "    Number of simulation samples. DEFAULT: 1000 simulation samples\n",
       "num_trading_days: int\n",
       "    Number of trading days to simulate. DEFAULT: 252 days (1 year of business days)\n",
       "\u001b[1;31mFile:\u001b[0m           c:\\users\\rober\\desktop\\api\\api financial planning\\mcforecasttools.py\n",
       "\u001b[1;31mType:\u001b[0m           type\n",
       "\u001b[1;31mSubclasses:\u001b[0m     \n"
      ]
     },
     "metadata": {},
     "output_type": "display_data"
    }
   ],
   "source": [
    "?MCSimulation"
   ]
  },
  {
   "cell_type": "code",
   "execution_count": 18,
   "metadata": {},
   "outputs": [],
   "source": [
    "# Configuring a Monte Carlo simulation to forecast 30 years cumulative returns\n",
    "MC_stock_data = MCSimulation(\n",
    "    portfolio_data = df_savings,\n",
    "    weights=[.40, .60], \n",
    "    num_simulation = 500,\n",
    "    num_trading_days = 252*30\n",
    ")"
   ]
  },
  {
   "cell_type": "code",
   "execution_count": 19,
   "metadata": {},
   "outputs": [
    {
     "data": {
      "text/html": [
       "<div>\n",
       "<style scoped>\n",
       "    .dataframe tbody tr th:only-of-type {\n",
       "        vertical-align: middle;\n",
       "    }\n",
       "\n",
       "    .dataframe tbody tr th {\n",
       "        vertical-align: top;\n",
       "    }\n",
       "\n",
       "    .dataframe thead tr th {\n",
       "        text-align: left;\n",
       "    }\n",
       "</style>\n",
       "<table border=\"1\" class=\"dataframe\">\n",
       "  <thead>\n",
       "    <tr>\n",
       "      <th></th>\n",
       "      <th colspan=\"6\" halign=\"left\">AGG</th>\n",
       "      <th colspan=\"6\" halign=\"left\">SPY</th>\n",
       "    </tr>\n",
       "    <tr>\n",
       "      <th></th>\n",
       "      <th>open</th>\n",
       "      <th>high</th>\n",
       "      <th>low</th>\n",
       "      <th>close</th>\n",
       "      <th>volume</th>\n",
       "      <th>daily_return</th>\n",
       "      <th>open</th>\n",
       "      <th>high</th>\n",
       "      <th>low</th>\n",
       "      <th>close</th>\n",
       "      <th>volume</th>\n",
       "      <th>daily_return</th>\n",
       "    </tr>\n",
       "  </thead>\n",
       "  <tbody>\n",
       "    <tr>\n",
       "      <th>2015-10-14 00:00:00-04:00</th>\n",
       "      <td>109.83</td>\n",
       "      <td>110.0500</td>\n",
       "      <td>109.7251</td>\n",
       "      <td>110.03</td>\n",
       "      <td>3785661</td>\n",
       "      <td>NaN</td>\n",
       "      <td>200.18</td>\n",
       "      <td>200.87</td>\n",
       "      <td>198.9400</td>\n",
       "      <td>199.27</td>\n",
       "      <td>82856686</td>\n",
       "      <td>NaN</td>\n",
       "    </tr>\n",
       "    <tr>\n",
       "      <th>2015-10-15 00:00:00-04:00</th>\n",
       "      <td>109.93</td>\n",
       "      <td>110.0499</td>\n",
       "      <td>109.7900</td>\n",
       "      <td>109.89</td>\n",
       "      <td>1792325</td>\n",
       "      <td>-0.001272</td>\n",
       "      <td>200.08</td>\n",
       "      <td>202.34</td>\n",
       "      <td>199.6400</td>\n",
       "      <td>202.33</td>\n",
       "      <td>96008389</td>\n",
       "      <td>0.015356</td>\n",
       "    </tr>\n",
       "    <tr>\n",
       "      <th>2015-10-16 00:00:00-04:00</th>\n",
       "      <td>109.90</td>\n",
       "      <td>109.9400</td>\n",
       "      <td>109.7800</td>\n",
       "      <td>109.78</td>\n",
       "      <td>1497588</td>\n",
       "      <td>-0.001001</td>\n",
       "      <td>202.83</td>\n",
       "      <td>203.29</td>\n",
       "      <td>201.9200</td>\n",
       "      <td>203.14</td>\n",
       "      <td>79323870</td>\n",
       "      <td>0.004003</td>\n",
       "    </tr>\n",
       "    <tr>\n",
       "      <th>2015-10-19 00:00:00-04:00</th>\n",
       "      <td>109.78</td>\n",
       "      <td>109.8950</td>\n",
       "      <td>109.6500</td>\n",
       "      <td>109.85</td>\n",
       "      <td>1289942</td>\n",
       "      <td>0.000638</td>\n",
       "      <td>202.50</td>\n",
       "      <td>203.37</td>\n",
       "      <td>202.1300</td>\n",
       "      <td>203.33</td>\n",
       "      <td>61255929</td>\n",
       "      <td>0.000935</td>\n",
       "    </tr>\n",
       "    <tr>\n",
       "      <th>2015-10-20 00:00:00-04:00</th>\n",
       "      <td>109.64</td>\n",
       "      <td>109.7800</td>\n",
       "      <td>109.5500</td>\n",
       "      <td>109.65</td>\n",
       "      <td>1672562</td>\n",
       "      <td>-0.001821</td>\n",
       "      <td>202.85</td>\n",
       "      <td>203.84</td>\n",
       "      <td>202.5471</td>\n",
       "      <td>203.07</td>\n",
       "      <td>60081395</td>\n",
       "      <td>-0.001279</td>\n",
       "    </tr>\n",
       "  </tbody>\n",
       "</table>\n",
       "</div>"
      ],
      "text/plain": [
       "                              AGG                                       \\\n",
       "                             open      high       low   close   volume   \n",
       "2015-10-14 00:00:00-04:00  109.83  110.0500  109.7251  110.03  3785661   \n",
       "2015-10-15 00:00:00-04:00  109.93  110.0499  109.7900  109.89  1792325   \n",
       "2015-10-16 00:00:00-04:00  109.90  109.9400  109.7800  109.78  1497588   \n",
       "2015-10-19 00:00:00-04:00  109.78  109.8950  109.6500  109.85  1289942   \n",
       "2015-10-20 00:00:00-04:00  109.64  109.7800  109.5500  109.65  1672562   \n",
       "\n",
       "                                           SPY                            \\\n",
       "                          daily_return    open    high       low   close   \n",
       "2015-10-14 00:00:00-04:00          NaN  200.18  200.87  198.9400  199.27   \n",
       "2015-10-15 00:00:00-04:00    -0.001272  200.08  202.34  199.6400  202.33   \n",
       "2015-10-16 00:00:00-04:00    -0.001001  202.83  203.29  201.9200  203.14   \n",
       "2015-10-19 00:00:00-04:00     0.000638  202.50  203.37  202.1300  203.33   \n",
       "2015-10-20 00:00:00-04:00    -0.001821  202.85  203.84  202.5471  203.07   \n",
       "\n",
       "                                                  \n",
       "                             volume daily_return  \n",
       "2015-10-14 00:00:00-04:00  82856686          NaN  \n",
       "2015-10-15 00:00:00-04:00  96008389     0.015356  \n",
       "2015-10-16 00:00:00-04:00  79323870     0.004003  \n",
       "2015-10-19 00:00:00-04:00  61255929     0.000935  \n",
       "2015-10-20 00:00:00-04:00  60081395    -0.001279  "
      ]
     },
     "execution_count": 19,
     "metadata": {},
     "output_type": "execute_result"
    }
   ],
   "source": [
    "# Printing the simulation input data\n",
    "(MC_stock_data).portfolio_data.head()"
   ]
  },
  {
   "cell_type": "code",
   "execution_count": 20,
   "metadata": {},
   "outputs": [
    {
     "name": "stdout",
     "output_type": "stream",
     "text": [
      "Running Monte Carlo simulation number 0.\n",
      "Running Monte Carlo simulation number 10.\n",
      "Running Monte Carlo simulation number 20.\n",
      "Running Monte Carlo simulation number 30.\n",
      "Running Monte Carlo simulation number 40.\n",
      "Running Monte Carlo simulation number 50.\n",
      "Running Monte Carlo simulation number 60.\n",
      "Running Monte Carlo simulation number 70.\n",
      "Running Monte Carlo simulation number 80.\n",
      "Running Monte Carlo simulation number 90.\n",
      "Running Monte Carlo simulation number 100.\n",
      "Running Monte Carlo simulation number 110.\n",
      "Running Monte Carlo simulation number 120.\n",
      "Running Monte Carlo simulation number 130.\n",
      "Running Monte Carlo simulation number 140.\n",
      "Running Monte Carlo simulation number 150.\n",
      "Running Monte Carlo simulation number 160.\n",
      "Running Monte Carlo simulation number 170.\n",
      "Running Monte Carlo simulation number 180.\n",
      "Running Monte Carlo simulation number 190.\n",
      "Running Monte Carlo simulation number 200.\n",
      "Running Monte Carlo simulation number 210.\n",
      "Running Monte Carlo simulation number 220.\n",
      "Running Monte Carlo simulation number 230.\n",
      "Running Monte Carlo simulation number 240.\n",
      "Running Monte Carlo simulation number 250.\n",
      "Running Monte Carlo simulation number 260.\n",
      "Running Monte Carlo simulation number 270.\n",
      "Running Monte Carlo simulation number 280.\n",
      "Running Monte Carlo simulation number 290.\n",
      "Running Monte Carlo simulation number 300.\n",
      "Running Monte Carlo simulation number 310.\n",
      "Running Monte Carlo simulation number 320.\n",
      "Running Monte Carlo simulation number 330.\n",
      "Running Monte Carlo simulation number 340.\n",
      "Running Monte Carlo simulation number 350.\n",
      "Running Monte Carlo simulation number 360.\n",
      "Running Monte Carlo simulation number 370.\n",
      "Running Monte Carlo simulation number 380.\n",
      "Running Monte Carlo simulation number 390.\n",
      "Running Monte Carlo simulation number 400.\n",
      "Running Monte Carlo simulation number 410.\n",
      "Running Monte Carlo simulation number 420.\n",
      "Running Monte Carlo simulation number 430.\n",
      "Running Monte Carlo simulation number 440.\n",
      "Running Monte Carlo simulation number 450.\n",
      "Running Monte Carlo simulation number 460.\n",
      "Running Monte Carlo simulation number 470.\n",
      "Running Monte Carlo simulation number 480.\n",
      "Running Monte Carlo simulation number 490.\n"
     ]
    },
    {
     "data": {
      "text/html": [
       "<div>\n",
       "<style scoped>\n",
       "    .dataframe tbody tr th:only-of-type {\n",
       "        vertical-align: middle;\n",
       "    }\n",
       "\n",
       "    .dataframe tbody tr th {\n",
       "        vertical-align: top;\n",
       "    }\n",
       "\n",
       "    .dataframe thead th {\n",
       "        text-align: right;\n",
       "    }\n",
       "</style>\n",
       "<table border=\"1\" class=\"dataframe\">\n",
       "  <thead>\n",
       "    <tr style=\"text-align: right;\">\n",
       "      <th></th>\n",
       "      <th>0</th>\n",
       "      <th>1</th>\n",
       "      <th>2</th>\n",
       "      <th>3</th>\n",
       "      <th>4</th>\n",
       "      <th>5</th>\n",
       "      <th>6</th>\n",
       "      <th>7</th>\n",
       "      <th>8</th>\n",
       "      <th>9</th>\n",
       "      <th>...</th>\n",
       "      <th>490</th>\n",
       "      <th>491</th>\n",
       "      <th>492</th>\n",
       "      <th>493</th>\n",
       "      <th>494</th>\n",
       "      <th>495</th>\n",
       "      <th>496</th>\n",
       "      <th>497</th>\n",
       "      <th>498</th>\n",
       "      <th>499</th>\n",
       "    </tr>\n",
       "  </thead>\n",
       "  <tbody>\n",
       "    <tr>\n",
       "      <th>0</th>\n",
       "      <td>1.000000</td>\n",
       "      <td>1.000000</td>\n",
       "      <td>1.000000</td>\n",
       "      <td>1.000000</td>\n",
       "      <td>1.000000</td>\n",
       "      <td>1.000000</td>\n",
       "      <td>1.000000</td>\n",
       "      <td>1.000000</td>\n",
       "      <td>1.000000</td>\n",
       "      <td>1.000000</td>\n",
       "      <td>...</td>\n",
       "      <td>1.000000</td>\n",
       "      <td>1.000000</td>\n",
       "      <td>1.000000</td>\n",
       "      <td>1.000000</td>\n",
       "      <td>1.000000</td>\n",
       "      <td>1.000000</td>\n",
       "      <td>1.000000</td>\n",
       "      <td>1.000000</td>\n",
       "      <td>1.000000</td>\n",
       "      <td>1.000000</td>\n",
       "    </tr>\n",
       "    <tr>\n",
       "      <th>1</th>\n",
       "      <td>1.001593</td>\n",
       "      <td>1.005241</td>\n",
       "      <td>1.009919</td>\n",
       "      <td>1.006978</td>\n",
       "      <td>0.994565</td>\n",
       "      <td>0.998453</td>\n",
       "      <td>1.009827</td>\n",
       "      <td>0.990878</td>\n",
       "      <td>1.007227</td>\n",
       "      <td>0.989989</td>\n",
       "      <td>...</td>\n",
       "      <td>0.993606</td>\n",
       "      <td>0.998044</td>\n",
       "      <td>0.997047</td>\n",
       "      <td>0.996928</td>\n",
       "      <td>0.991820</td>\n",
       "      <td>0.995140</td>\n",
       "      <td>0.993334</td>\n",
       "      <td>0.991249</td>\n",
       "      <td>0.995895</td>\n",
       "      <td>1.022332</td>\n",
       "    </tr>\n",
       "    <tr>\n",
       "      <th>2</th>\n",
       "      <td>1.006021</td>\n",
       "      <td>1.007589</td>\n",
       "      <td>1.016158</td>\n",
       "      <td>1.005032</td>\n",
       "      <td>0.980919</td>\n",
       "      <td>1.008679</td>\n",
       "      <td>1.000483</td>\n",
       "      <td>0.989101</td>\n",
       "      <td>1.001529</td>\n",
       "      <td>1.006808</td>\n",
       "      <td>...</td>\n",
       "      <td>0.978719</td>\n",
       "      <td>0.999748</td>\n",
       "      <td>0.994613</td>\n",
       "      <td>1.006778</td>\n",
       "      <td>0.992524</td>\n",
       "      <td>0.993502</td>\n",
       "      <td>0.997784</td>\n",
       "      <td>0.989719</td>\n",
       "      <td>0.998571</td>\n",
       "      <td>1.032591</td>\n",
       "    </tr>\n",
       "    <tr>\n",
       "      <th>3</th>\n",
       "      <td>1.008478</td>\n",
       "      <td>1.011935</td>\n",
       "      <td>1.012095</td>\n",
       "      <td>1.011947</td>\n",
       "      <td>0.991657</td>\n",
       "      <td>1.009631</td>\n",
       "      <td>0.993312</td>\n",
       "      <td>1.000379</td>\n",
       "      <td>1.000975</td>\n",
       "      <td>1.005642</td>\n",
       "      <td>...</td>\n",
       "      <td>0.980795</td>\n",
       "      <td>0.992665</td>\n",
       "      <td>0.988173</td>\n",
       "      <td>1.005844</td>\n",
       "      <td>0.980814</td>\n",
       "      <td>0.984353</td>\n",
       "      <td>0.997236</td>\n",
       "      <td>0.996903</td>\n",
       "      <td>0.979986</td>\n",
       "      <td>1.030065</td>\n",
       "    </tr>\n",
       "    <tr>\n",
       "      <th>4</th>\n",
       "      <td>1.011022</td>\n",
       "      <td>1.017280</td>\n",
       "      <td>1.013724</td>\n",
       "      <td>1.005133</td>\n",
       "      <td>0.981602</td>\n",
       "      <td>1.010923</td>\n",
       "      <td>0.990923</td>\n",
       "      <td>0.992082</td>\n",
       "      <td>0.988461</td>\n",
       "      <td>1.004139</td>\n",
       "      <td>...</td>\n",
       "      <td>0.974291</td>\n",
       "      <td>1.002228</td>\n",
       "      <td>0.985411</td>\n",
       "      <td>1.014078</td>\n",
       "      <td>0.993627</td>\n",
       "      <td>0.984420</td>\n",
       "      <td>0.997581</td>\n",
       "      <td>1.005535</td>\n",
       "      <td>0.981647</td>\n",
       "      <td>1.023082</td>\n",
       "    </tr>\n",
       "    <tr>\n",
       "      <th>...</th>\n",
       "      <td>...</td>\n",
       "      <td>...</td>\n",
       "      <td>...</td>\n",
       "      <td>...</td>\n",
       "      <td>...</td>\n",
       "      <td>...</td>\n",
       "      <td>...</td>\n",
       "      <td>...</td>\n",
       "      <td>...</td>\n",
       "      <td>...</td>\n",
       "      <td>...</td>\n",
       "      <td>...</td>\n",
       "      <td>...</td>\n",
       "      <td>...</td>\n",
       "      <td>...</td>\n",
       "      <td>...</td>\n",
       "      <td>...</td>\n",
       "      <td>...</td>\n",
       "      <td>...</td>\n",
       "      <td>...</td>\n",
       "      <td>...</td>\n",
       "    </tr>\n",
       "    <tr>\n",
       "      <th>7556</th>\n",
       "      <td>2.945271</td>\n",
       "      <td>18.680456</td>\n",
       "      <td>20.487303</td>\n",
       "      <td>2.927689</td>\n",
       "      <td>4.114691</td>\n",
       "      <td>2.863866</td>\n",
       "      <td>5.953660</td>\n",
       "      <td>20.006929</td>\n",
       "      <td>5.135146</td>\n",
       "      <td>36.926811</td>\n",
       "      <td>...</td>\n",
       "      <td>6.656312</td>\n",
       "      <td>6.067603</td>\n",
       "      <td>9.344986</td>\n",
       "      <td>18.024035</td>\n",
       "      <td>23.290396</td>\n",
       "      <td>9.246263</td>\n",
       "      <td>9.250225</td>\n",
       "      <td>3.760643</td>\n",
       "      <td>22.274142</td>\n",
       "      <td>25.535552</td>\n",
       "    </tr>\n",
       "    <tr>\n",
       "      <th>7557</th>\n",
       "      <td>2.951328</td>\n",
       "      <td>18.981447</td>\n",
       "      <td>20.313177</td>\n",
       "      <td>2.953593</td>\n",
       "      <td>4.114589</td>\n",
       "      <td>2.888338</td>\n",
       "      <td>5.945115</td>\n",
       "      <td>20.099237</td>\n",
       "      <td>5.128497</td>\n",
       "      <td>36.660408</td>\n",
       "      <td>...</td>\n",
       "      <td>6.639590</td>\n",
       "      <td>6.010357</td>\n",
       "      <td>9.364654</td>\n",
       "      <td>18.069875</td>\n",
       "      <td>23.641534</td>\n",
       "      <td>9.279962</td>\n",
       "      <td>9.288685</td>\n",
       "      <td>3.790055</td>\n",
       "      <td>22.239135</td>\n",
       "      <td>25.392029</td>\n",
       "    </tr>\n",
       "    <tr>\n",
       "      <th>7558</th>\n",
       "      <td>2.931317</td>\n",
       "      <td>18.911311</td>\n",
       "      <td>20.112127</td>\n",
       "      <td>2.915198</td>\n",
       "      <td>4.141602</td>\n",
       "      <td>2.916532</td>\n",
       "      <td>5.957320</td>\n",
       "      <td>20.107847</td>\n",
       "      <td>5.113535</td>\n",
       "      <td>36.627583</td>\n",
       "      <td>...</td>\n",
       "      <td>6.643167</td>\n",
       "      <td>5.987401</td>\n",
       "      <td>9.344077</td>\n",
       "      <td>18.235010</td>\n",
       "      <td>23.799710</td>\n",
       "      <td>9.261135</td>\n",
       "      <td>9.375733</td>\n",
       "      <td>3.792918</td>\n",
       "      <td>22.430148</td>\n",
       "      <td>25.237819</td>\n",
       "    </tr>\n",
       "    <tr>\n",
       "      <th>7559</th>\n",
       "      <td>2.929599</td>\n",
       "      <td>18.935033</td>\n",
       "      <td>19.922555</td>\n",
       "      <td>2.911683</td>\n",
       "      <td>4.174712</td>\n",
       "      <td>2.913727</td>\n",
       "      <td>5.940446</td>\n",
       "      <td>20.091763</td>\n",
       "      <td>5.108084</td>\n",
       "      <td>36.393441</td>\n",
       "      <td>...</td>\n",
       "      <td>6.593030</td>\n",
       "      <td>5.958135</td>\n",
       "      <td>9.288489</td>\n",
       "      <td>18.014746</td>\n",
       "      <td>23.944914</td>\n",
       "      <td>9.291769</td>\n",
       "      <td>9.371602</td>\n",
       "      <td>3.747604</td>\n",
       "      <td>22.482165</td>\n",
       "      <td>24.994879</td>\n",
       "    </tr>\n",
       "    <tr>\n",
       "      <th>7560</th>\n",
       "      <td>2.918886</td>\n",
       "      <td>19.148167</td>\n",
       "      <td>19.798676</td>\n",
       "      <td>2.934525</td>\n",
       "      <td>4.153322</td>\n",
       "      <td>2.907382</td>\n",
       "      <td>5.888420</td>\n",
       "      <td>20.192350</td>\n",
       "      <td>5.139412</td>\n",
       "      <td>36.232047</td>\n",
       "      <td>...</td>\n",
       "      <td>6.533795</td>\n",
       "      <td>5.915988</td>\n",
       "      <td>9.313283</td>\n",
       "      <td>18.361664</td>\n",
       "      <td>23.562660</td>\n",
       "      <td>9.337903</td>\n",
       "      <td>9.496557</td>\n",
       "      <td>3.759857</td>\n",
       "      <td>22.534673</td>\n",
       "      <td>24.996848</td>\n",
       "    </tr>\n",
       "  </tbody>\n",
       "</table>\n",
       "<p>7561 rows × 500 columns</p>\n",
       "</div>"
      ],
      "text/plain": [
       "           0          1          2         3         4         5         6    \\\n",
       "0     1.000000   1.000000   1.000000  1.000000  1.000000  1.000000  1.000000   \n",
       "1     1.001593   1.005241   1.009919  1.006978  0.994565  0.998453  1.009827   \n",
       "2     1.006021   1.007589   1.016158  1.005032  0.980919  1.008679  1.000483   \n",
       "3     1.008478   1.011935   1.012095  1.011947  0.991657  1.009631  0.993312   \n",
       "4     1.011022   1.017280   1.013724  1.005133  0.981602  1.010923  0.990923   \n",
       "...        ...        ...        ...       ...       ...       ...       ...   \n",
       "7556  2.945271  18.680456  20.487303  2.927689  4.114691  2.863866  5.953660   \n",
       "7557  2.951328  18.981447  20.313177  2.953593  4.114589  2.888338  5.945115   \n",
       "7558  2.931317  18.911311  20.112127  2.915198  4.141602  2.916532  5.957320   \n",
       "7559  2.929599  18.935033  19.922555  2.911683  4.174712  2.913727  5.940446   \n",
       "7560  2.918886  19.148167  19.798676  2.934525  4.153322  2.907382  5.888420   \n",
       "\n",
       "            7         8          9    ...       490       491       492  \\\n",
       "0      1.000000  1.000000   1.000000  ...  1.000000  1.000000  1.000000   \n",
       "1      0.990878  1.007227   0.989989  ...  0.993606  0.998044  0.997047   \n",
       "2      0.989101  1.001529   1.006808  ...  0.978719  0.999748  0.994613   \n",
       "3      1.000379  1.000975   1.005642  ...  0.980795  0.992665  0.988173   \n",
       "4      0.992082  0.988461   1.004139  ...  0.974291  1.002228  0.985411   \n",
       "...         ...       ...        ...  ...       ...       ...       ...   \n",
       "7556  20.006929  5.135146  36.926811  ...  6.656312  6.067603  9.344986   \n",
       "7557  20.099237  5.128497  36.660408  ...  6.639590  6.010357  9.364654   \n",
       "7558  20.107847  5.113535  36.627583  ...  6.643167  5.987401  9.344077   \n",
       "7559  20.091763  5.108084  36.393441  ...  6.593030  5.958135  9.288489   \n",
       "7560  20.192350  5.139412  36.232047  ...  6.533795  5.915988  9.313283   \n",
       "\n",
       "            493        494       495       496       497        498        499  \n",
       "0      1.000000   1.000000  1.000000  1.000000  1.000000   1.000000   1.000000  \n",
       "1      0.996928   0.991820  0.995140  0.993334  0.991249   0.995895   1.022332  \n",
       "2      1.006778   0.992524  0.993502  0.997784  0.989719   0.998571   1.032591  \n",
       "3      1.005844   0.980814  0.984353  0.997236  0.996903   0.979986   1.030065  \n",
       "4      1.014078   0.993627  0.984420  0.997581  1.005535   0.981647   1.023082  \n",
       "...         ...        ...       ...       ...       ...        ...        ...  \n",
       "7556  18.024035  23.290396  9.246263  9.250225  3.760643  22.274142  25.535552  \n",
       "7557  18.069875  23.641534  9.279962  9.288685  3.790055  22.239135  25.392029  \n",
       "7558  18.235010  23.799710  9.261135  9.375733  3.792918  22.430148  25.237819  \n",
       "7559  18.014746  23.944914  9.291769  9.371602  3.747604  22.482165  24.994879  \n",
       "7560  18.361664  23.562660  9.337903  9.496557  3.759857  22.534673  24.996848  \n",
       "\n",
       "[7561 rows x 500 columns]"
      ]
     },
     "execution_count": 20,
     "metadata": {},
     "output_type": "execute_result"
    }
   ],
   "source": [
    "# Running a Monte Carlo simulation to forecast 30 years cumulative returns\n",
    "MC_stock_data.calc_cumulative_return()\n"
   ]
  },
  {
   "cell_type": "code",
   "execution_count": 28,
   "metadata": {},
   "outputs": [
    {
     "data": {
      "text/plain": [
       "<matplotlib.axes._subplots.AxesSubplot at 0x1f179e33d88>"
      ]
     },
     "execution_count": 28,
     "metadata": {},
     "output_type": "execute_result"
    },
    {
     "data": {
      "image/png": "[encoded data removed]",
      "text/plain": [
       "<Figure size 432x288 with 1 Axes>"
      ]
     },
     "metadata": {
      "needs_background": "light"
     },
     "output_type": "display_data"
    }
   ],
   "source": [
    "# Plot simulation outcomes\n",
    "MC_stock_data.plot_simulation()"
   ]
  },
  {
   "cell_type": "code",
   "execution_count": 30,
   "metadata": {},
   "outputs": [
    {
     "data": {
      "image/png": "[encoded data removed]",
      "text/plain": [
       "<Figure size 432x288 with 1 Axes>"
      ]
     },
     "metadata": {
      "needs_background": "light"
     },
     "output_type": "display_data"
    }
   ],
   "source": [
    "# Plot probability distribution and confidence intervals\n",
    "dist_plot = MC_stock_data.plot_distribution()"
   ]
  },
  {
   "cell_type": "markdown",
   "metadata": {},
   "source": [
    "### Retirement Analysis"
   ]
  },
  {
   "cell_type": "code",
   "execution_count": 31,
   "metadata": {},
   "outputs": [
    {
     "name": "stdout",
     "output_type": "stream",
     "text": [
      "count           500.000000\n",
      "mean             12.273595\n",
      "std               8.775320\n",
      "min               1.545999\n",
      "25%               6.341032\n",
      "50%               9.873347\n",
      "75%              15.363134\n",
      "max              77.759580\n",
      "95% CI Lower      2.774221\n",
      "95% CI Upper     33.595995\n",
      "Name: 7560, dtype: float64\n"
     ]
    }
   ],
   "source": [
    "# Fetch summary statistics from the Monte Carlo simulation results\n",
    "tbl = MC_stock_data.summarize_cumulative_return()\n",
    "\n",
    "# Print summary statistics\n",
    "print(tbl)"
   ]
  },
  {
   "cell_type": "markdown",
   "metadata": {},
   "source": [
    "### Given an initial investment of $20,000, what is the expected portfolio return in dollars at the 95% lower and upper confidence intervals?"
   ]
  },
  {
   "cell_type": "code",
   "execution_count": 32,
   "metadata": {},
   "outputs": [
    {
     "name": "stdout",
     "output_type": "stream",
     "text": [
      "There is a 95% chance that an initial investment of $20000 in the portfolio over the next 30 years will end within in the range of $55484.42 and $671919.91\n"
     ]
    }
   ],
   "source": [
    "# Set initial investment\n",
    "initial_investment = 20000\n",
    "\n",
    "# Use the lower and upper `95%` confidence intervals to calculate the range of the possible outcomes of our $20,000\n",
    "ci_lower = round(tbl[8]*20000,2)\n",
    "ci_upper = round(tbl[9]*20000,2)\n",
    "\n",
    "# Print results\n",
    "print(f\"There is a 95% chance that an initial investment of ${initial_investment} in the portfolio\"\n",
    "      f\" over the next 30 years will end within in the range of\"\n",
    "      f\" ${ci_lower} and ${ci_upper}\")"
   ]
  },
  {
   "cell_type": "markdown",
   "metadata": {},
   "source": [
    "### How would a 50% increase in the initial investment amount affect the expected portfolio return in dollars at the 95% lower and upper confidence intervals?"
   ]
  },
  {
   "cell_type": "code",
   "execution_count": 33,
   "metadata": {},
   "outputs": [
    {
     "name": "stdout",
     "output_type": "stream",
     "text": [
      "There is a 95% chance that an initial investment of $30000.0 in the portfolio over the next 30 years will end within in the range of $83226.62 and $1007879.86\n"
     ]
    }
   ],
   "source": [
    "# Set initial investment\n",
    "initial_investment = 20000 * 1.5\n",
    "\n",
    "# Use the lower and upper `95%` confidence intervals to calculate the range of the possible outcomes of our $30,000\n",
    "ci_lower = round(tbl[8]*30000,2)\n",
    "ci_upper = round(tbl[9]*30000,2)\n",
    "\n",
    "# Print results\n",
    "print(f\"There is a 95% chance that an initial investment of ${initial_investment} in the portfolio\"\n",
    "      f\" over the next 30 years will end within in the range of\"\n",
    "      f\" ${ci_lower} and ${ci_upper}\")"
   ]
  },
  {
   "cell_type": "code",
   "execution_count": null,
   "metadata": {},
   "outputs": [],
   "source": []
  }
 ],
 "metadata": {
  "kernelspec": {
   "display_name": "Python 3",
   "language": "python",
   "name": "python3"
  },
  "language_info": {
   "codemirror_mode": {
    "name": "ipython",
    "version": 3
   },
   "file_extension": ".py",
   "mimetype": "text/x-python",
   "name": "python",
   "nbconvert_exporter": "python",
   "pygments_lexer": "ipython3",
   "version": "3.7.7"
  }
 },
 "nbformat": 4,
 "nbformat_minor": 4
}
